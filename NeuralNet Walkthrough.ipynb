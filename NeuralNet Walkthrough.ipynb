{
 "cells": [
  {
   "cell_type": "markdown",
   "metadata": {},
   "source": [
    "# ManualNN\n",
    "---\n",
    "## Manually Compute Neural Networks by hand\n",
    "---"
   ]
  },
  {
   "cell_type": "markdown",
   "metadata": {},
   "source": [
    "## Import Libraries"
   ]
  },
  {
   "cell_type": "code",
   "execution_count": null,
   "metadata": {
    "collapsed": true
   },
   "outputs": [],
   "source": [
    "import numpy as np\n",
    "import matplotlib.pyplot as plt"
   ]
  },
  {
   "cell_type": "markdown",
   "metadata": {},
   "source": [
    "## Implementation"
   ]
  },
  {
   "cell_type": "code",
   "execution_count": 85,
   "metadata": {},
   "outputs": [],
   "source": [
    "import numpy as np\n",
    "\n",
    "class NeuralNet(object):\n",
    "\t\"\"\"\n",
    "\tA Neural Network Walkthrough\n",
    "\t\"\"\"\n",
    "\tdef __init__(self, input_layer=4, hidden_layer=3, output_layer=1):\n",
    "\t\t\"\"\"Design and Initialise the Neural Network\"\"\"\n",
    "\t\tnp.random.seed(42)\n",
    "\t\tself.wh=np.random.uniform(size=(input_layer,hidden_layer))\n",
    "\t\tself.bh=np.random.uniform(size=(1,hidden_layer))\n",
    "\t\tself.wout=np.random.uniform(size=(hidden_layer,output_layer))\n",
    "\t\tself.bout=np.random.uniform(size=(1,output_layer))\n",
    "\n",
    "\n",
    "\tdef train(self, X, y, epochs = 10, lr = 1, verbose = True):\n",
    "\t\t\"\"\"Train the weigths of the neural network\"\"\"\n",
    "\n",
    "\t\t# Begin Training\n",
    "\t\tfor i in range(epochs):\n",
    "\t\t\t#Forward Propogation\n",
    "\t\t\thidden_layer_input=np.dot(X,self.wh) + self.bh\n",
    "\t\t\thiddenlayer_activations = self.sigmoid(hidden_layer_input)\n",
    "\t\t\toutput_layer_input=np.dot(hiddenlayer_activations,self.wout) + self.bout\n",
    "\t\t\toutput = self.sigmoid(output_layer_input)\n",
    "\n",
    "\t\t\t#Backpropagation\n",
    "\t\t\tE = y-output\n",
    "\t\t\tslope_output_layer = self.derivatives_sigmoid(output)\n",
    "\t\t\tslope_hidden_layer = self.derivatives_sigmoid(hiddenlayer_activations)\n",
    "\t\t\tdelta_output = E * slope_output_layer\n",
    "\t\t\terror_hidden_layer = delta_output.dot(self.wout.T)\n",
    "\t\t\tdelta_hiddenlayer = error_hidden_layer * slope_hidden_layer\n",
    "\t\t\tself.wout += hiddenlayer_activations.T.dot(delta_output) *lr\n",
    "\t\t\tself.bout += np.sum(delta_output, axis=0,keepdims=True) *lr\n",
    "\t\t\tself.wh += X.T.dot(delta_hiddenlayer) *lr\n",
    "\t\t\tself.bh += np.sum(delta_hiddenlayer, axis=0,keepdims=True) *lr\n",
    "\n",
    "\tdef predict(self, X):\n",
    "\t\t\"\"\"\"\"\"\n",
    "\t\thidden_layer_input=np.dot(X,self.wh) + self.bh\n",
    "\t\thiddenlayer_activations = self.sigmoid(hidden_layer_input)\n",
    "\t\toutput_layer_input=np.dot(hiddenlayer_activations,self.wout) + self.bout\n",
    "\t\toutput = self.sigmoid(output_layer_input)\n",
    "\t\treturn output\n",
    "\t\n",
    "\t#Sigmoid Function\n",
    "\tdef sigmoid (self,x):\n",
    "\t\treturn 1/(1 + np.exp(-x))\n",
    "\n",
    "\t#Derivative of Sigmoid Function\n",
    "\tdef derivatives_sigmoid(self,x):\n",
    "\t\treturn x * (1 - x)\n"
   ]
  },
  {
   "cell_type": "markdown",
   "metadata": {},
   "source": [
    "## Learning a Function"
   ]
  },
  {
   "cell_type": "code",
   "execution_count": 116,
   "metadata": {
    "collapsed": true
   },
   "outputs": [],
   "source": [
    "X=np.array([[1,0,1,0],[1,0,1,1],[0,1,0,1]])"
   ]
  },
  {
   "cell_type": "code",
   "execution_count": 117,
   "metadata": {
    "collapsed": true
   },
   "outputs": [],
   "source": [
    "y=np.array([[1],[1],[0]])"
   ]
  },
  {
   "cell_type": "code",
   "execution_count": 118,
   "metadata": {
    "collapsed": true
   },
   "outputs": [],
   "source": [
    "nn = NeuralNet()"
   ]
  },
  {
   "cell_type": "code",
   "execution_count": 119,
   "metadata": {},
   "outputs": [],
   "source": [
    "nn.train(X, y, epochs=10, lr=10)"
   ]
  },
  {
   "cell_type": "code",
   "execution_count": 120,
   "metadata": {},
   "outputs": [
    {
     "data": {
      "text/plain": [
       "array([[ 0.9530459 ],\n",
       "       [ 0.94823684],\n",
       "       [ 0.81200963]])"
      ]
     },
     "execution_count": 120,
     "metadata": {},
     "output_type": "execute_result"
    }
   ],
   "source": [
    "nn.predict(X)"
   ]
  },
  {
   "cell_type": "markdown",
   "metadata": {},
   "source": [
    "## Learning XOR"
   ]
  },
  {
   "cell_type": "code",
   "execution_count": 121,
   "metadata": {
    "collapsed": true
   },
   "outputs": [],
   "source": [
    "X1 = np.array([[0,0],\n",
    "               [0,1],\n",
    "               [1,0],\n",
    "               [1,1]])\n",
    "\n",
    "y1 = np.array([[0],[1],[1],[0]])"
   ]
  },
  {
   "cell_type": "code",
   "execution_count": 122,
   "metadata": {
    "collapsed": true
   },
   "outputs": [],
   "source": [
    "nn = NeuralNet(input_layer=2, hidden_layer=4, output_layer=1)"
   ]
  },
  {
   "cell_type": "code",
   "execution_count": 123,
   "metadata": {},
   "outputs": [],
   "source": [
    "nn.train(X1, y1, epochs=1, lr=9)"
   ]
  },
  {
   "cell_type": "code",
   "execution_count": 124,
   "metadata": {},
   "outputs": [],
   "source": [
    "pred = nn.predict(X1)"
   ]
  },
  {
   "cell_type": "code",
   "execution_count": null,
   "metadata": {
    "collapsed": true
   },
   "outputs": [],
   "source": []
  }
 ],
 "metadata": {
  "kernelspec": {
   "display_name": "Python [conda root]",
   "language": "python",
   "name": "conda-root-py"
  },
  "language_info": {
   "codemirror_mode": {
    "name": "ipython",
    "version": 3
   },
   "file_extension": ".py",
   "mimetype": "text/x-python",
   "name": "python",
   "nbconvert_exporter": "python",
   "pygments_lexer": "ipython3",
   "version": "3.5.2"
  }
 },
 "nbformat": 4,
 "nbformat_minor": 2
}
