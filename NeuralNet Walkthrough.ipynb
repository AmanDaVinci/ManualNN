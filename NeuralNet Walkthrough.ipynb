{
 "cells": [
  {
   "cell_type": "markdown",
   "metadata": {},
   "source": [
    "# Neural Network Walkthrough\n",
    "---\n",
    "## Manually Compute Neural Networks by hand\n",
    "---"
   ]
  },
  {
   "cell_type": "markdown",
   "metadata": {},
   "source": [
    "## Import Libraries"
   ]
  },
  {
   "cell_type": "code",
   "execution_count": 15,
   "metadata": {},
   "outputs": [],
   "source": [
    "import numpy as np #to perform matrix multiplications and array operations\n",
    "import matplotlib.pyplot as plt"
   ]
  },
  {
   "cell_type": "markdown",
   "metadata": {},
   "source": [
    "## Implementation"
   ]
  },
  {
   "cell_type": "code",
   "execution_count": 19,
   "metadata": {},
   "outputs": [],
   "source": [
    "class NeuralNet(object):\n",
    "\t\"\"\"\n",
    "\tA Neural Network Walkthrough\n",
    "\t\"\"\"\n",
    "\tdef __init__(self, input_layer=4, hidden_layer=3, output_layer=1):\n",
    "\t\t\"\"\"Design and Initialise the Neural Network \n",
    "        input_layer= The number of feature you need to train for\n",
    "        hidden_layer= the number of units in a hidden layer\n",
    "        output_layer= the number of ouput units\n",
    "        \"\"\"\n",
    "\t\tnp.random.seed(42)  #Seed is set so as to get the same random distribution every time the program is executed\n",
    "\t\t\"\"\"The following is used to initialize the weights and bias matrices with random values\"\"\"\n",
    "\t\tself.weightsh=np.random.uniform(size=(input_layer,hidden_layer)) \n",
    "\t\tself.biash=np.random.uniform(size=(1,hidden_layer))\n",
    "\t\tself.weightsout=np.random.uniform(size=(hidden_layer,output_layer))\n",
    "\t\tself.biasout=np.random.uniform(size=(1,output_layer))\n",
    "\n",
    "\n",
    "\tdef train(self, X, y, epochs = 10, lr = 1, verbose = True):\n",
    "\t\t\"\"\"Train the weigths of the neural network \n",
    "        epochs= the numbers of iteration the models should trained for\n",
    "        lr =learning rate(alpha) for the model\n",
    "        \"\"\"\n",
    "\n",
    "\t\t# Begin Training\n",
    "\t\tfor i in range(epochs):\n",
    "\t\t\t#Forward Propogation\n",
    "\t\t\thidden_layer_input=np.dot(X,self.weightsh) + self.biash\n",
    "\t\t\thiddenlayer_activations = self.sigmoid(hidden_layer_input)\n",
    "\t\t\toutput_layer_input=np.dot(hiddenlayer_activations,self.weightsout) + self.biasout\n",
    "\t\t\toutput = self.sigmoid(output_layer_input)\n",
    "\n",
    "\t\t\t#Backpropagation\n",
    "\t\t\tError = y-output\n",
    "\t\t\tslope_output_layer = self.derivatives_sigmoid(output)\n",
    "\t\t\tslope_hidden_layer = self.derivatives_sigmoid(hiddenlayer_activations)\n",
    "\t\t\tdelta_output = Error * slope_output_layer\n",
    "\t\t\terror_hidden_layer = delta_output.dot(self.weightsout.T)\n",
    "\t\t\tdelta_hiddenlayer = error_hidden_layer * slope_hidden_layer\n",
    "\t\t\tself.weightsout += hiddenlayer_activations.T.dot(delta_output) *lr\n",
    "\t\t\tself.biasout += np.sum(delta_output, axis=0,keepdims=True) *lr\n",
    "\t\t\tself.weightsh += X.T.dot(delta_hiddenlayer) *lr\n",
    "\t\t\tself.biash += np.sum(delta_hiddenlayer, axis=0,keepdims=True) *lr\n",
    "\n",
    "\tdef predict(self, X):\n",
    "\t\t\"\"\"Used to predict the value on the basis of the learned weights and bias\"\"\"\n",
    "\t\thidden_layer_input=np.dot(X,self.weightsh) + self.biash\n",
    "\t\thiddenlayer_activations = self.sigmoid(hidden_layer_input)\n",
    "\t\toutput_layer_input=np.dot(hiddenlayer_activations,self.weightsout) + self.biasout\n",
    "\t\toutput = self.sigmoid(output_layer_input)\n",
    "\t\treturn output\n",
    "\t\n",
    "\t#Sigmoid Function\n",
    "\tdef sigmoid (self,x):\n",
    "\t\treturn 1/(1 + np.exp(-x))\n",
    "\n",
    "\t#Derivative of Sigmoid Function\n",
    "\tdef derivatives_sigmoid(self,x):\n",
    "\t\treturn x * (1 - x)\n"
   ]
  },
  {
   "cell_type": "markdown",
   "metadata": {},
   "source": [
    "## Learning a Function"
   ]
  },
  {
   "cell_type": "code",
   "execution_count": 20,
   "metadata": {
    "collapsed": true
   },
   "outputs": [],
   "source": [
    "X=np.array([[1,0,1,0],[1,0,1,1],[0,1,0,1]])"
   ]
  },
  {
   "cell_type": "code",
   "execution_count": 21,
   "metadata": {
    "collapsed": true
   },
   "outputs": [],
   "source": [
    "y=np.array([[1],[1],[0]])"
   ]
  },
  {
   "cell_type": "code",
   "execution_count": 22,
   "metadata": {},
   "outputs": [],
   "source": [
    "MyNeuralNet1 = NeuralNet() #using default parameters input_layer=4, hidden_layer=3, output_layer=1"
   ]
  },
  {
   "cell_type": "code",
   "execution_count": 23,
   "metadata": {},
   "outputs": [],
   "source": [
    "MyNeuralNet1.train(X, y, epochs=10, lr=10)"
   ]
  },
  {
   "cell_type": "code",
   "execution_count": 24,
   "metadata": {},
   "outputs": [
    {
     "data": {
      "text/plain": [
       "array([[ 0.9530459 ],\n",
       "       [ 0.94823684],\n",
       "       [ 0.81200963]])"
      ]
     },
     "execution_count": 24,
     "metadata": {},
     "output_type": "execute_result"
    }
   ],
   "source": [
    "MyNeuralNet1.predict(X)"
   ]
  },
  {
   "cell_type": "markdown",
   "metadata": {},
   "source": [
    "## Learning XOR"
   ]
  },
  {
   "cell_type": "code",
   "execution_count": 51,
   "metadata": {
    "collapsed": true
   },
   "outputs": [],
   "source": [
    "X1 = np.array([[0,0],\n",
    "               [0,1],\n",
    "               [1,0],\n",
    "               [1,1]])\n",
    "\n",
    "y1 = np.array([[0],[1],[1],[0]])"
   ]
  },
  {
   "cell_type": "code",
   "execution_count": 52,
   "metadata": {
    "collapsed": true
   },
   "outputs": [],
   "source": [
    "MyNeuralNet2 = NeuralNet(input_layer=2, hidden_layer=4, output_layer=1)"
   ]
  },
  {
   "cell_type": "code",
   "execution_count": 63,
   "metadata": {
    "collapsed": true
   },
   "outputs": [],
   "source": [
    "MyNeuralNet2.train(X1, y1, epochs=100, lr=1)"
   ]
  },
  {
   "cell_type": "code",
   "execution_count": 64,
   "metadata": {},
   "outputs": [
    {
     "data": {
      "text/plain": [
       "array([[ 0.03596955],\n",
       "       [ 0.9332112 ],\n",
       "       [ 0.93592023],\n",
       "       [ 0.09513244]])"
      ]
     },
     "execution_count": 64,
     "metadata": {},
     "output_type": "execute_result"
    }
   ],
   "source": [
    "predictions = MyNeuralNet2.predict(X1)#storing the predicted values in a variable\n",
    "predictions"
   ]
  },
  {
   "cell_type": "markdown",
   "metadata": {
    "collapsed": true
   },
   "source": [
    "## Learning concentric circles"
   ]
  },
  {
   "cell_type": "markdown",
   "metadata": {},
   "source": [
    "#### $$The\\ circle\\ with\\ radius\\ less\\ than\\ \\sqrt{2}\\ are\\ 0,\\ 1\\ otherwise$$ "
   ]
  },
  {
   "cell_type": "code",
   "execution_count": 46,
   "metadata": {
    "collapsed": true
   },
   "outputs": [],
   "source": [
    "X1=np.array([[1,1],\n",
    "             [-1,1],\n",
    "             [1,2],\n",
    "             [-1,-1],\n",
    "             [2,1],\n",
    "             [1,-1],\n",
    "             [2,2],\n",
    "             [-2,1],\n",
    "             [-2,-2],\n",
    "             [1,-2]])\n",
    "y1=np.array([[0],[0],[1],[0],[1],[0],[1],[1],[1],[1]])"
   ]
  },
  {
   "cell_type": "code",
   "execution_count": 47,
   "metadata": {
    "collapsed": true
   },
   "outputs": [],
   "source": [
    "MyNeuralNet3=NeuralNet(input_layer=2, hidden_layer=4, output_layer=1)"
   ]
  },
  {
   "cell_type": "code",
   "execution_count": 48,
   "metadata": {
    "collapsed": true
   },
   "outputs": [],
   "source": [
    "MyNeuralNet3.train(X1, y1, epochs=1000, lr=1)"
   ]
  },
  {
   "cell_type": "code",
   "execution_count": 66,
   "metadata": {},
   "outputs": [
    {
     "data": {
      "text/plain": [
       "array([[ 0.00030057],\n",
       "       [ 0.00286672],\n",
       "       [ 0.00598863],\n",
       "       [ 0.03788425]])"
      ]
     },
     "execution_count": 66,
     "metadata": {},
     "output_type": "execute_result"
    }
   ],
   "source": [
    "predictions = nn.predict(X1)\n",
    "predictions\n"
   ]
  },
  {
   "cell_type": "code",
   "execution_count": 50,
   "metadata": {},
   "outputs": [
    {
     "data": {
      "text/plain": [
       "array([[ 0.],\n",
       "       [ 0.],\n",
       "       [ 1.],\n",
       "       [ 0.],\n",
       "       [ 1.],\n",
       "       [ 0.],\n",
       "       [ 1.],\n",
       "       [ 1.],\n",
       "       [ 1.],\n",
       "       [ 1.]])"
      ]
     },
     "execution_count": 50,
     "metadata": {},
     "output_type": "execute_result"
    }
   ],
   "source": [
    "np.around(predictions) "
   ]
  }
 ],
 "metadata": {
  "kernelspec": {
   "display_name": "Python 3",
   "language": "python",
   "name": "python3"
  },
  "language_info": {
   "codemirror_mode": {
    "name": "ipython",
    "version": 3
   },
   "file_extension": ".py",
   "mimetype": "text/x-python",
   "name": "python",
   "nbconvert_exporter": "python",
   "pygments_lexer": "ipython3",
   "version": "3.6.1"
  }
 },
 "nbformat": 4,
 "nbformat_minor": 2
}
